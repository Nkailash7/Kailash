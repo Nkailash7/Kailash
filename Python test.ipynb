{
 "cells": [
  {
   "cell_type": "code",
   "execution_count": 7,
   "id": "388c9f53",
   "metadata": {
    "scrolled": true
   },
   "outputs": [
    {
     "name": "stdout",
     "output_type": "stream",
     "text": [
      "He is a good boy - good\n",
      "Food is the worst here - worst\n",
      "He is an awesome player - awesome\n",
      "She is the best - best\n",
      "This pizza tastes awful - awful\n",
      "These burger are really nice - nice\n"
     ]
    }
   ],
   "source": [
    "#1\n",
    "positive=['good','awesome','best','nice']\n",
    "negative=['worst','awful']\n",
    "comments=['He is a good boy','Food is the worst here','He is an awesome player','She is the best','This pizza tastes awful','These burger are really nice']\n",
    "comment1=comments[0]+\" - \"+positive[0]\n",
    "comment2=comments[1]+\" - \"+negative[0]\n",
    "comment3=comments[2]+\" - \"+positive[1]\n",
    "comment4=comments[3]+\" - \"+positive[2]\n",
    "comment5=comments[4]+\" - \"+negative[1]\n",
    "comment6=comments[5]+\" - \"+positive[3]\n",
    "print(comment1)\n",
    "print(comment2)\n",
    "print(comment3)\n",
    "print(comment4)\n",
    "print(comment5)\n",
    "print(comment6)"
   ]
  },
  {
   "cell_type": "code",
   "execution_count": 5,
   "id": "a255439d",
   "metadata": {},
   "outputs": [
    {
     "name": "stdout",
     "output_type": "stream",
     "text": [
      "Enter a Number: 5\n",
      "152.2360679774998\n"
     ]
    }
   ],
   "source": [
    "#2\n",
    "import numpy as np\n",
    "import math\n",
    "dic={'Square':lambda x:x*x,'Cube':lambda x:x*x*x,'Squareroot':lambda x:np.sqrt(x)}\n",
    "number=int(input(\"Enter a Number: \"))\n",
    "ans=0\n",
    "for i in dic:\n",
    "    ans+=dic[i](number)\n",
    "print(ans)"
   ]
  },
  {
   "cell_type": "code",
   "execution_count": 9,
   "id": "7323a1f3",
   "metadata": {},
   "outputs": [
    {
     "name": "stdout",
     "output_type": "stream",
     "text": [
      "9\n",
      "7.0\n",
      "7.0\n",
      "7.5\n",
      "6.25\n"
     ]
    }
   ],
   "source": [
    "#8\n",
    "lis=[9,5,7,8,5]\n",
    "from  itertools import accumulate\n",
    "ans=accumulate(lis,lambda x,y:(x+y)/2)\n",
    "for i in ans :\n",
    "    print(i)"
   ]
  },
  {
   "cell_type": "code",
   "execution_count": 10,
   "id": "91bd77ba",
   "metadata": {},
   "outputs": [
    {
     "name": "stdout",
     "output_type": "stream",
     "text": [
      "['TRUE', 'FALSE', 'TRUE', 'TRUE', 'FALSE', 'FALSE']\n"
     ]
    }
   ],
   "source": [
    "#9\n",
    "Isbool = map(lambda x:x.upper(), ['True', 'FALse', 'tRUe' , 'tRue' , 'False' , 'faLse'])\n",
    "output = list(Isbool)\n",
    "print(output)"
   ]
  },
  {
   "cell_type": "code",
   "execution_count": 13,
   "id": "9222f259",
   "metadata": {},
   "outputs": [
    {
     "data": {
      "text/plain": [
       "{3, 8}"
      ]
     },
     "execution_count": 13,
     "metadata": {},
     "output_type": "execute_result"
    }
   ],
   "source": [
    "#7\n",
    "given_sets=[[1,2,3,4,8],[2,3,8,5,6],[8,4,5,3,7],[6,9,8,3],[9,12,3,7,6,8,4,6,21,1,6]]\n",
    "set.intersection(*map(set,given_sets))"
   ]
  },
  {
   "cell_type": "code",
   "execution_count": 14,
   "id": "d1223b6b",
   "metadata": {},
   "outputs": [
    {
     "name": "stdout",
     "output_type": "stream",
     "text": [
      "['Lemon', 'Grapes', 'Kiwi', 'Orange', 'Limes']\n"
     ]
    }
   ],
   "source": [
    "#3\n",
    "fruits=(('Lemon','sour'),('DragonFruit','Sweet'),('Grapes','soUr'),('Kiwi','Sour'),('Apples','Sweet'),('Orange','sour'),('Blueberries','sweet'),('Limes','Sour'))\n",
    "taste='sour'\n",
    "l=[]\n",
    "for i in fruits:\n",
    "    if(taste==i[1].lower()):\n",
    "        l.append(i[0])\n",
    "print(l)"
   ]
  },
  {
   "cell_type": "code",
   "execution_count": 15,
   "id": "d538ac00",
   "metadata": {},
   "outputs": [
    {
     "name": "stdout",
     "output_type": "stream",
     "text": [
      "['hOw', 'ARe']\n"
     ]
    }
   ],
   "source": [
    "#4\n",
    "ls=['hello','Dear','hOw','ARe','You']\n",
    "l=[]\n",
    "for i in ls:\n",
    "    if i[1].isupper():\n",
    "        l.append(i)\n",
    "print(l)"
   ]
  },
  {
   "cell_type": "code",
   "execution_count": 16,
   "id": "90242987",
   "metadata": {},
   "outputs": [
    {
     "name": "stdout",
     "output_type": "stream",
     "text": [
      "WeightOnMoon:{'John': '7.44', 'Shelly': '10.75', 'Marry': '5.79'}\n"
     ]
    }
   ],
   "source": [
    "#5\n",
    "GMoon=1.622\n",
    "GEarth=9.81\n",
    "WeightOnEarth={'John':45,'Shelly':65,'Marry':35}\n",
    "x=lambda a:\"{:.2f}\".format((a*GMoon)/GEarth)\n",
    "for j in WeightOnEarth.keys():\n",
    "    WeightOnEarth[j]=x(WeightOnEarth[j])\n",
    "print(\"WeightOnMoon:{}\".format(WeightOnEarth))"
   ]
  },
  {
   "cell_type": "code",
   "execution_count": 17,
   "id": "8a6595d7",
   "metadata": {},
   "outputs": [
    {
     "name": "stdout",
     "output_type": "stream",
     "text": [
      "['Maria', 'Hello', 'World', 'Merry', 'You']\n"
     ]
    }
   ],
   "source": [
    "#6\n",
    "nameList=['santa Maria','Hello World','Merry christmas','tHank You']\n",
    "l=[]\n",
    "for i in nameList:\n",
    "    k=i.split()\n",
    "    for j in k:\n",
    "        if j[0].isupper():\n",
    "            l.append(j)\n",
    "print(l)"
   ]
  },
  {
   "cell_type": "code",
   "execution_count": 18,
   "id": "98d2adf8",
   "metadata": {},
   "outputs": [
    {
     "name": "stdout",
     "output_type": "stream",
     "text": [
      "['1997', '2011', '1993', '2020']\n"
     ]
    }
   ],
   "source": [
    "#10\n",
    "dateList=['17-12-1997','22-04-2011','01-05-1993','19-06-2020']\n",
    "print([i.split('-')[2] for i in dateList])"
   ]
  },
  {
   "cell_type": "code",
   "execution_count": null,
   "id": "07d6f031",
   "metadata": {},
   "outputs": [],
   "source": []
  }
 ],
 "metadata": {
  "kernelspec": {
   "display_name": "Python 3 (ipykernel)",
   "language": "python",
   "name": "python3"
  },
  "language_info": {
   "codemirror_mode": {
    "name": "ipython",
    "version": 3
   },
   "file_extension": ".py",
   "mimetype": "text/x-python",
   "name": "python",
   "nbconvert_exporter": "python",
   "pygments_lexer": "ipython3",
   "version": "3.9.7"
  }
 },
 "nbformat": 4,
 "nbformat_minor": 5
}
